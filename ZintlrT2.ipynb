{
  "nbformat": 4,
  "nbformat_minor": 0,
  "metadata": {
    "colab": {
      "provenance": []
    },
    "kernelspec": {
      "name": "python3",
      "display_name": "Python 3"
    },
    "language_info": {
      "name": "python"
    }
  },
  "cells": [
    {
      "cell_type": "code",
      "execution_count": 6,
      "metadata": {
        "id": "skBuwfm9McOT"
      },
      "outputs": [],
      "source": [
        "import requests\n",
        "import json\n",
        "from bs4 import BeautifulSoup\n",
        "\n",
        "# Load the saved data from JSON file\n",
        "with open(\"company_data.json\", \"r\") as f:\n",
        "    company_list = json.load(f)\n",
        "\n",
        "# Select the first 20 company links to crawl\n",
        "company_links = [company[\"Link\"] for company in company_list[:20]]\n",
        "\n",
        "# Crawl each company link and extract data\n",
        "company_data = []\n",
        "for link in company_links:\n",
        "    response = requests.get(link)\n",
        "    soup = BeautifulSoup(response.content, \"html.parser\")\n",
        "    \n",
        "    # Extract the company data\n",
        "    company_dict = {}\n",
        "    company_dict[\"Name\"] = soup.find(\"h1\").text.strip()\n",
        "    company_dict[\"Address\"] = soup.find(\"div\", class_=\"text location\").text.strip()\n",
        "    company_dict[\"Phone\"] = soup.find(\"div\", class_=\"text phone\").text.strip()\n",
        "    #rating_element = soup.find(\"div\", class_=\"rate\")\n",
        "    \n",
        "    \n",
        "    company_data.append(company_dict)\n",
        "\n",
        "# Saving data in JSON format\n",
        "with open(\"20_company_data.json\", \"w\") as f:\n",
        "    json.dump(company_data, f, indent=4)"
      ]
    }
  ]
}